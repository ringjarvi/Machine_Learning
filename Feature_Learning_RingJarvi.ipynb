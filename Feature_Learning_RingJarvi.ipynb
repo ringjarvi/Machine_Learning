{
 "cells": [
  {
   "cell_type": "markdown",
   "metadata": {
    "colab_type": "text",
    "deletable": false,
    "editable": false,
    "id": "_go0RfUaDkGi",
    "nbgrader": {
     "checksum": "51dec2afd3628e00047e3dbca32b2151",
     "grade": false,
     "grade_id": "cell-9aa804aaaa8f9bca",
     "locked": true,
     "schema_version": 1,
     "solution": false
    }
   },
   "source": [
    "# Feature Learning\n",
    "\n",
    "In this exercise we will use a dataset with high dimensionality and apply supervised learning methods to it after various feature learning methods."
   ]
  },
  {
   "cell_type": "code",
   "execution_count": 1,
   "metadata": {
    "colab": {},
    "colab_type": "code",
    "deletable": false,
    "editable": false,
    "id": "2HB7yaOyDkGj",
    "nbgrader": {
     "checksum": "1fb04df1383071b8c98758b7274af192",
     "grade": false,
     "grade_id": "cell-675ea75b33420748",
     "locked": true,
     "schema_version": 1,
     "solution": false
    }
   },
   "outputs": [],
   "source": [
    "import numpy as np\n",
    "import pandas as pd\n",
    "import matplotlib\n",
    "import matplotlib.pyplot as plt\n",
    "import sklearn as sk\n",
    "\n",
    "plt.style.use(\"ggplot\")"
   ]
  },
  {
   "cell_type": "code",
   "execution_count": 2,
   "metadata": {
    "colab": {},
    "colab_type": "code",
    "deletable": false,
    "editable": false,
    "id": "ypZg94_hDkGo",
    "nbgrader": {
     "checksum": "f492e5f4e57dac45f8f599b8cf72cdaa",
     "grade": false,
     "grade_id": "cell-dcc937bc7b3f119b",
     "locked": true,
     "schema_version": 1,
     "solution": false
    }
   },
   "outputs": [],
   "source": [
    "from sklearn.datasets import fetch_california_housing\n",
    "from sklearn.model_selection import train_test_split, GridSearchCV\n",
    "from sklearn.feature_selection import SelectKBest, mutual_info_regression, RFE\n",
    "from sklearn.linear_model import LinearRegression, LassoCV\n",
    "from sklearn.decomposition import PCA"
   ]
  },
  {
   "cell_type": "markdown",
   "metadata": {
    "colab_type": "text",
    "deletable": false,
    "editable": false,
    "id": "B0Urwq2gDkGr",
    "nbgrader": {
     "checksum": "7fb5cd342ec6cc8e53a4ef9ce07334af",
     "grade": false,
     "grade_id": "cell-700c5cdb1419069b",
     "locked": true,
     "schema_version": 1,
     "solution": false
    }
   },
   "source": [
    "The data we'll be working with is the [California housing dataset](http://scikit-learn.org/stable/datasets/index.html#california-housing-dataset)."
   ]
  },
  {
   "cell_type": "code",
   "execution_count": 3,
   "metadata": {
    "colab": {
     "base_uri": "https://localhost:8080/",
     "height": 714
    },
    "colab_type": "code",
    "deletable": false,
    "editable": false,
    "id": "I-Z7vcASDkGs",
    "nbgrader": {
     "checksum": "6817f6d9b1d9def615d314fbc46fc3ae",
     "grade": false,
     "grade_id": "cell-5ec1b36cba18af4d",
     "locked": true,
     "schema_version": 1,
     "solution": false
    },
    "outputId": "56280499-90f1-44a5-bf76-c011dfaf3723"
   },
   "outputs": [
    {
     "name": "stderr",
     "output_type": "stream",
     "text": [
      "Downloading Cal. housing from https://ndownloader.figshare.com/files/5976036 to /Users/rrj/scikit_learn_data\n"
     ]
    },
    {
     "name": "stdout",
     "output_type": "stream",
     "text": [
      ".. _california_housing_dataset:\n",
      "\n",
      "California Housing dataset\n",
      "--------------------------\n",
      "\n",
      "**Data Set Characteristics:**\n",
      "\n",
      "    :Number of Instances: 20640\n",
      "\n",
      "    :Number of Attributes: 8 numeric, predictive attributes and the target\n",
      "\n",
      "    :Attribute Information:\n",
      "        - MedInc        median income in block\n",
      "        - HouseAge      median house age in block\n",
      "        - AveRooms      average number of rooms\n",
      "        - AveBedrms     average number of bedrooms\n",
      "        - Population    block population\n",
      "        - AveOccup      average house occupancy\n",
      "        - Latitude      house block latitude\n",
      "        - Longitude     house block longitude\n",
      "\n",
      "    :Missing Attribute Values: None\n",
      "\n",
      "This dataset was obtained from the StatLib repository.\n",
      "http://lib.stat.cmu.edu/datasets/\n",
      "\n",
      "The target variable is the median house value for California districts.\n",
      "\n",
      "This dataset was derived from the 1990 U.S. census, using one row per census\n",
      "block group. A block group is the smallest geographical unit for which the U.S.\n",
      "Census Bureau publishes sample data (a block group typically has a population\n",
      "of 600 to 3,000 people).\n",
      "\n",
      "It can be downloaded/loaded using the\n",
      ":func:`sklearn.datasets.fetch_california_housing` function.\n",
      "\n",
      ".. topic:: References\n",
      "\n",
      "    - Pace, R. Kelley and Ronald Barry, Sparse Spatial Autoregressions,\n",
      "      Statistics and Probability Letters, 33 (1997) 291-297\n",
      "\n"
     ]
    }
   ],
   "source": [
    "house_data = fetch_california_housing()\n",
    "print(house_data[\"DESCR\"])"
   ]
  },
  {
   "cell_type": "code",
   "execution_count": 4,
   "metadata": {
    "colab": {},
    "colab_type": "code",
    "deletable": false,
    "editable": false,
    "id": "gZdWhY4FDkGu",
    "nbgrader": {
     "checksum": "7f0db01c55b339e171da352d2734570f",
     "grade": false,
     "grade_id": "cell-f7103f854887d832",
     "locked": true,
     "schema_version": 1,
     "solution": false
    }
   },
   "outputs": [],
   "source": [
    "house_features = pd.DataFrame(house_data[\"data\"], columns=house_data[\"feature_names\"])\n",
    "house_prices = pd.Series(house_data[\"target\"])"
   ]
  },
  {
   "cell_type": "code",
   "execution_count": 5,
   "metadata": {
    "colab": {
     "base_uri": "https://localhost:8080/",
     "height": 204
    },
    "colab_type": "code",
    "deletable": false,
    "editable": false,
    "id": "bfgf4HReDkGw",
    "nbgrader": {
     "checksum": "0cf0b6c83f7171764bb881774daea1c5",
     "grade": false,
     "grade_id": "cell-10562d702c478147",
     "locked": true,
     "schema_version": 1,
     "solution": false
    },
    "outputId": "91560632-af88-41da-e613-b6dd5f3eb761"
   },
   "outputs": [
    {
     "data": {
      "text/html": [
       "<div>\n",
       "<style scoped>\n",
       "    .dataframe tbody tr th:only-of-type {\n",
       "        vertical-align: middle;\n",
       "    }\n",
       "\n",
       "    .dataframe tbody tr th {\n",
       "        vertical-align: top;\n",
       "    }\n",
       "\n",
       "    .dataframe thead th {\n",
       "        text-align: right;\n",
       "    }\n",
       "</style>\n",
       "<table border=\"1\" class=\"dataframe\">\n",
       "  <thead>\n",
       "    <tr style=\"text-align: right;\">\n",
       "      <th></th>\n",
       "      <th>MedInc</th>\n",
       "      <th>HouseAge</th>\n",
       "      <th>AveRooms</th>\n",
       "      <th>AveBedrms</th>\n",
       "      <th>Population</th>\n",
       "      <th>AveOccup</th>\n",
       "      <th>Latitude</th>\n",
       "      <th>Longitude</th>\n",
       "    </tr>\n",
       "  </thead>\n",
       "  <tbody>\n",
       "    <tr>\n",
       "      <th>0</th>\n",
       "      <td>8.3252</td>\n",
       "      <td>41.0</td>\n",
       "      <td>6.984127</td>\n",
       "      <td>1.023810</td>\n",
       "      <td>322.0</td>\n",
       "      <td>2.555556</td>\n",
       "      <td>37.88</td>\n",
       "      <td>-122.23</td>\n",
       "    </tr>\n",
       "    <tr>\n",
       "      <th>1</th>\n",
       "      <td>8.3014</td>\n",
       "      <td>21.0</td>\n",
       "      <td>6.238137</td>\n",
       "      <td>0.971880</td>\n",
       "      <td>2401.0</td>\n",
       "      <td>2.109842</td>\n",
       "      <td>37.86</td>\n",
       "      <td>-122.22</td>\n",
       "    </tr>\n",
       "    <tr>\n",
       "      <th>2</th>\n",
       "      <td>7.2574</td>\n",
       "      <td>52.0</td>\n",
       "      <td>8.288136</td>\n",
       "      <td>1.073446</td>\n",
       "      <td>496.0</td>\n",
       "      <td>2.802260</td>\n",
       "      <td>37.85</td>\n",
       "      <td>-122.24</td>\n",
       "    </tr>\n",
       "    <tr>\n",
       "      <th>3</th>\n",
       "      <td>5.6431</td>\n",
       "      <td>52.0</td>\n",
       "      <td>5.817352</td>\n",
       "      <td>1.073059</td>\n",
       "      <td>558.0</td>\n",
       "      <td>2.547945</td>\n",
       "      <td>37.85</td>\n",
       "      <td>-122.25</td>\n",
       "    </tr>\n",
       "    <tr>\n",
       "      <th>4</th>\n",
       "      <td>3.8462</td>\n",
       "      <td>52.0</td>\n",
       "      <td>6.281853</td>\n",
       "      <td>1.081081</td>\n",
       "      <td>565.0</td>\n",
       "      <td>2.181467</td>\n",
       "      <td>37.85</td>\n",
       "      <td>-122.25</td>\n",
       "    </tr>\n",
       "  </tbody>\n",
       "</table>\n",
       "</div>"
      ],
      "text/plain": [
       "   MedInc  HouseAge  AveRooms  AveBedrms  Population  AveOccup  Latitude  \\\n",
       "0  8.3252      41.0  6.984127   1.023810       322.0  2.555556     37.88   \n",
       "1  8.3014      21.0  6.238137   0.971880      2401.0  2.109842     37.86   \n",
       "2  7.2574      52.0  8.288136   1.073446       496.0  2.802260     37.85   \n",
       "3  5.6431      52.0  5.817352   1.073059       558.0  2.547945     37.85   \n",
       "4  3.8462      52.0  6.281853   1.081081       565.0  2.181467     37.85   \n",
       "\n",
       "   Longitude  \n",
       "0    -122.23  \n",
       "1    -122.22  \n",
       "2    -122.24  \n",
       "3    -122.25  \n",
       "4    -122.25  "
      ]
     },
     "execution_count": 5,
     "metadata": {},
     "output_type": "execute_result"
    }
   ],
   "source": [
    "house_features.head()"
   ]
  },
  {
   "cell_type": "code",
   "execution_count": 6,
   "metadata": {
    "colab": {
     "base_uri": "https://localhost:8080/",
     "height": 297
    },
    "colab_type": "code",
    "deletable": false,
    "editable": false,
    "id": "dcox2or-DkGy",
    "nbgrader": {
     "checksum": "298e8f00107762b172a854dd0e6d8a6d",
     "grade": false,
     "grade_id": "cell-f287bd15a4b23bc5",
     "locked": true,
     "schema_version": 1,
     "solution": false
    },
    "outputId": "65a41961-8972-4fc6-9275-78dd919938cd"
   },
   "outputs": [
    {
     "data": {
      "text/html": [
       "<div>\n",
       "<style scoped>\n",
       "    .dataframe tbody tr th:only-of-type {\n",
       "        vertical-align: middle;\n",
       "    }\n",
       "\n",
       "    .dataframe tbody tr th {\n",
       "        vertical-align: top;\n",
       "    }\n",
       "\n",
       "    .dataframe thead th {\n",
       "        text-align: right;\n",
       "    }\n",
       "</style>\n",
       "<table border=\"1\" class=\"dataframe\">\n",
       "  <thead>\n",
       "    <tr style=\"text-align: right;\">\n",
       "      <th></th>\n",
       "      <th>MedInc</th>\n",
       "      <th>HouseAge</th>\n",
       "      <th>AveRooms</th>\n",
       "      <th>AveBedrms</th>\n",
       "      <th>Population</th>\n",
       "      <th>AveOccup</th>\n",
       "      <th>Latitude</th>\n",
       "      <th>Longitude</th>\n",
       "    </tr>\n",
       "  </thead>\n",
       "  <tbody>\n",
       "    <tr>\n",
       "      <th>count</th>\n",
       "      <td>20640.000000</td>\n",
       "      <td>20640.000000</td>\n",
       "      <td>20640.000000</td>\n",
       "      <td>20640.000000</td>\n",
       "      <td>20640.000000</td>\n",
       "      <td>20640.000000</td>\n",
       "      <td>20640.000000</td>\n",
       "      <td>20640.000000</td>\n",
       "    </tr>\n",
       "    <tr>\n",
       "      <th>mean</th>\n",
       "      <td>3.870671</td>\n",
       "      <td>28.639486</td>\n",
       "      <td>5.429000</td>\n",
       "      <td>1.096675</td>\n",
       "      <td>1425.476744</td>\n",
       "      <td>3.070655</td>\n",
       "      <td>35.631861</td>\n",
       "      <td>-119.569704</td>\n",
       "    </tr>\n",
       "    <tr>\n",
       "      <th>std</th>\n",
       "      <td>1.899822</td>\n",
       "      <td>12.585558</td>\n",
       "      <td>2.474173</td>\n",
       "      <td>0.473911</td>\n",
       "      <td>1132.462122</td>\n",
       "      <td>10.386050</td>\n",
       "      <td>2.135952</td>\n",
       "      <td>2.003532</td>\n",
       "    </tr>\n",
       "    <tr>\n",
       "      <th>min</th>\n",
       "      <td>0.499900</td>\n",
       "      <td>1.000000</td>\n",
       "      <td>0.846154</td>\n",
       "      <td>0.333333</td>\n",
       "      <td>3.000000</td>\n",
       "      <td>0.692308</td>\n",
       "      <td>32.540000</td>\n",
       "      <td>-124.350000</td>\n",
       "    </tr>\n",
       "    <tr>\n",
       "      <th>25%</th>\n",
       "      <td>2.563400</td>\n",
       "      <td>18.000000</td>\n",
       "      <td>4.440716</td>\n",
       "      <td>1.006079</td>\n",
       "      <td>787.000000</td>\n",
       "      <td>2.429741</td>\n",
       "      <td>33.930000</td>\n",
       "      <td>-121.800000</td>\n",
       "    </tr>\n",
       "    <tr>\n",
       "      <th>50%</th>\n",
       "      <td>3.534800</td>\n",
       "      <td>29.000000</td>\n",
       "      <td>5.229129</td>\n",
       "      <td>1.048780</td>\n",
       "      <td>1166.000000</td>\n",
       "      <td>2.818116</td>\n",
       "      <td>34.260000</td>\n",
       "      <td>-118.490000</td>\n",
       "    </tr>\n",
       "    <tr>\n",
       "      <th>75%</th>\n",
       "      <td>4.743250</td>\n",
       "      <td>37.000000</td>\n",
       "      <td>6.052381</td>\n",
       "      <td>1.099526</td>\n",
       "      <td>1725.000000</td>\n",
       "      <td>3.282261</td>\n",
       "      <td>37.710000</td>\n",
       "      <td>-118.010000</td>\n",
       "    </tr>\n",
       "    <tr>\n",
       "      <th>max</th>\n",
       "      <td>15.000100</td>\n",
       "      <td>52.000000</td>\n",
       "      <td>141.909091</td>\n",
       "      <td>34.066667</td>\n",
       "      <td>35682.000000</td>\n",
       "      <td>1243.333333</td>\n",
       "      <td>41.950000</td>\n",
       "      <td>-114.310000</td>\n",
       "    </tr>\n",
       "  </tbody>\n",
       "</table>\n",
       "</div>"
      ],
      "text/plain": [
       "             MedInc      HouseAge      AveRooms     AveBedrms    Population  \\\n",
       "count  20640.000000  20640.000000  20640.000000  20640.000000  20640.000000   \n",
       "mean       3.870671     28.639486      5.429000      1.096675   1425.476744   \n",
       "std        1.899822     12.585558      2.474173      0.473911   1132.462122   \n",
       "min        0.499900      1.000000      0.846154      0.333333      3.000000   \n",
       "25%        2.563400     18.000000      4.440716      1.006079    787.000000   \n",
       "50%        3.534800     29.000000      5.229129      1.048780   1166.000000   \n",
       "75%        4.743250     37.000000      6.052381      1.099526   1725.000000   \n",
       "max       15.000100     52.000000    141.909091     34.066667  35682.000000   \n",
       "\n",
       "           AveOccup      Latitude     Longitude  \n",
       "count  20640.000000  20640.000000  20640.000000  \n",
       "mean       3.070655     35.631861   -119.569704  \n",
       "std       10.386050      2.135952      2.003532  \n",
       "min        0.692308     32.540000   -124.350000  \n",
       "25%        2.429741     33.930000   -121.800000  \n",
       "50%        2.818116     34.260000   -118.490000  \n",
       "75%        3.282261     37.710000   -118.010000  \n",
       "max     1243.333333     41.950000   -114.310000  "
      ]
     },
     "execution_count": 6,
     "metadata": {},
     "output_type": "execute_result"
    }
   ],
   "source": [
    "house_features.describe()"
   ]
  },
  {
   "cell_type": "code",
   "execution_count": 7,
   "metadata": {
    "colab": {
     "base_uri": "https://localhost:8080/",
     "height": 119
    },
    "colab_type": "code",
    "deletable": false,
    "editable": false,
    "id": "ZuKKw0y6DkG0",
    "nbgrader": {
     "checksum": "d102ceee11a2836db5d4fb63e741b7ab",
     "grade": false,
     "grade_id": "cell-399de11feef27c9f",
     "locked": true,
     "schema_version": 1,
     "solution": false
    },
    "outputId": "647a0765-0a20-44b9-cac3-507d8854dc91"
   },
   "outputs": [
    {
     "data": {
      "text/plain": [
       "0    4.526\n",
       "1    3.585\n",
       "2    3.521\n",
       "3    3.413\n",
       "4    3.422\n",
       "dtype: float64"
      ]
     },
     "execution_count": 7,
     "metadata": {},
     "output_type": "execute_result"
    }
   ],
   "source": [
    "house_prices.head()"
   ]
  },
  {
   "cell_type": "code",
   "execution_count": 8,
   "metadata": {
    "colab": {
     "base_uri": "https://localhost:8080/",
     "height": 170
    },
    "colab_type": "code",
    "deletable": false,
    "editable": false,
    "id": "kElxxcJQDkG3",
    "nbgrader": {
     "checksum": "ade2a7841568e65cc53f438fa91ac326",
     "grade": false,
     "grade_id": "cell-20fdd83710664f14",
     "locked": true,
     "schema_version": 1,
     "solution": false
    },
    "outputId": "7233e58f-23ab-416c-fef8-9012c0032032"
   },
   "outputs": [
    {
     "data": {
      "text/plain": [
       "count    20640.000000\n",
       "mean         2.068558\n",
       "std          1.153956\n",
       "min          0.149990\n",
       "25%          1.196000\n",
       "50%          1.797000\n",
       "75%          2.647250\n",
       "max          5.000010\n",
       "dtype: float64"
      ]
     },
     "execution_count": 8,
     "metadata": {},
     "output_type": "execute_result"
    }
   ],
   "source": [
    "house_prices.describe()"
   ]
  },
  {
   "cell_type": "markdown",
   "metadata": {
    "colab_type": "text",
    "deletable": false,
    "editable": false,
    "id": "iBUObGg5DkG5",
    "nbgrader": {
     "checksum": "f70a7c3e5c79214b35e9f0dedb1df3ef",
     "grade": false,
     "grade_id": "cell-a6d14e9cfadf9cbe",
     "locked": true,
     "schema_version": 1,
     "solution": false
    }
   },
   "source": [
    "First, we'll split our data in order to determine how well we're doing."
   ]
  },
  {
   "cell_type": "code",
   "execution_count": 9,
   "metadata": {
    "colab": {},
    "colab_type": "code",
    "deletable": false,
    "editable": false,
    "id": "onBDZfAJDkG5",
    "nbgrader": {
     "checksum": "54c192139c17a81266f0926417fb5e6d",
     "grade": false,
     "grade_id": "cell-74fc4b2531172f7d",
     "locked": true,
     "schema_version": 1,
     "solution": false
    }
   },
   "outputs": [],
   "source": [
    "X_train, X_test, y_train, y_test = train_test_split(house_features, house_prices, test_size=0.2, random_state=0)"
   ]
  },
  {
   "cell_type": "markdown",
   "metadata": {
    "colab_type": "text",
    "deletable": false,
    "editable": false,
    "id": "HAQkx2XiDkG7",
    "nbgrader": {
     "checksum": "8f07f2c1ce9aa27506c562faca2a5fb6",
     "grade": false,
     "grade_id": "cell-73f4d23f398ef242",
     "locked": true,
     "schema_version": 1,
     "solution": false
    }
   },
   "source": [
    "## Filter Feature Selection\n",
    "\n",
    "Select the best features based on [mutual information score](http://scikit-learn.org/stable/modules/generated/sklearn.feature_selection.mutual_info_regression.html#sklearn.feature_selection.mutual_info_regression) from the training data then transform X_train and X_test into the new shape for the data. See [SelectKBest](http://scikit-learn.org/stable/modules/generated/sklearn.feature_selection.SelectKBest.html#sklearn.feature_selection.SelectKBest)"
   ]
  },
  {
   "cell_type": "code",
   "execution_count": 0,
   "metadata": {
    "colab": {},
    "colab_type": "code",
    "deletable": false,
    "editable": false,
    "id": "cBOoij2tDkG8",
    "nbgrader": {
     "checksum": "ca3308af8e550ea13ba7854363433aa5",
     "grade": false,
     "grade_id": "cell-07907cf1d043fed9",
     "locked": true,
     "schema_version": 1,
     "solution": false
    }
   },
   "outputs": [],
   "source": [
    "# We will select the best k features from all feature selection methods\n",
    "k = 4"
   ]
  },
  {
   "cell_type": "code",
   "execution_count": 0,
   "metadata": {
    "colab": {},
    "colab_type": "code",
    "deletable": false,
    "id": "IvHgdHIhDkG-",
    "nbgrader": {
     "checksum": "ddf23e9beb8c17ad16a3f00a31d968d0",
     "grade": false,
     "grade_id": "cell-279e39610c47c8f8",
     "locked": false,
     "schema_version": 1,
     "solution": true
    }
   },
   "outputs": [],
   "source": [
    "# Save the transformed values into mi_X_train and mi_X_test\n",
    "# Save the transformer you use into mi_transformer\n",
    "# YOUR CODE HERE\n",
    "\n",
    "mi_transformer = SelectKBest(mutual_info_regression, k=k).fit(X_train, y_train)\n",
    "\n",
    "mi_X_train=mi_transformer.transform(X_train)\n",
    "mi_X_test=mi_transformer.transform(X_test)\n"
   ]
  },
  {
   "cell_type": "code",
   "execution_count": 29,
   "metadata": {
    "colab": {
     "base_uri": "https://localhost:8080/",
     "height": 153
    },
    "colab_type": "code",
    "deletable": false,
    "editable": false,
    "id": "ha4xTWLODkHA",
    "nbgrader": {
     "checksum": "ea66d4ab9ec2e513b1cb7e0b8e7d3b27",
     "grade": false,
     "grade_id": "cell-377847abf96c374c",
     "locked": true,
     "schema_version": 1,
     "solution": false
    },
    "outputId": "50fd8a94-ab04-4524-b51a-512d6df12315"
   },
   "outputs": [
    {
     "name": "stdout",
     "output_type": "stream",
     "text": [
      "The MI score for MedInc is 0.3994739622163763\n",
      "The MI score for HouseAge is 0.03294380003690822\n",
      "The MI score for AveRooms is 0.10812235174123686\n",
      "The MI score for AveBedrms is 0.029776008397862874\n",
      "The MI score for Population is 0.024695598165312305\n",
      "The MI score for AveOccup is 0.06934045888602736\n",
      "The MI score for Latitude is 0.3639427018881296\n",
      "The MI score for Longitude is 0.40238581379139227\n"
     ]
    }
   ],
   "source": [
    "for feature, importance in zip(house_features.columns, mi_transformer.scores_):\n",
    "    print(f\"The MI score for {feature} is {importance}\")"
   ]
  },
  {
   "cell_type": "code",
   "execution_count": 0,
   "metadata": {
    "colab": {},
    "colab_type": "code",
    "deletable": false,
    "editable": false,
    "id": "9VW9dsDEDkHB",
    "nbgrader": {
     "checksum": "802f9b55b98b872ea4be999d1459edc7",
     "grade": true,
     "grade_id": "cell-d7ebf063a0a3ce74",
     "locked": true,
     "points": 5,
     "schema_version": 1,
     "solution": false
    }
   },
   "outputs": [],
   "source": [
    "assert mi_transformer.k == k\n",
    "assert isinstance(mi_transformer, SelectKBest)\n",
    "assert len(mi_transformer.scores_) == 8\n",
    "assert mi_X_train.shape == (16512, k)\n",
    "assert mi_X_test.shape == (4128, k)"
   ]
  },
  {
   "cell_type": "markdown",
   "metadata": {
    "colab_type": "text",
    "deletable": false,
    "editable": false,
    "id": "mZ6qH2WwDkHD",
    "nbgrader": {
     "checksum": "b201dbd371d118f334add32ccf2a7cc9",
     "grade": false,
     "grade_id": "cell-1c4269050710987f",
     "locked": true,
     "schema_version": 1,
     "solution": false
    }
   },
   "source": [
    "Since the focus in this exercise is on the feature learning and not on the supervised learning portion, we will use a simple estimator (linear regression) for the model training portions."
   ]
  },
  {
   "cell_type": "code",
   "execution_count": 31,
   "metadata": {
    "colab": {
     "base_uri": "https://localhost:8080/",
     "height": 34
    },
    "colab_type": "code",
    "deletable": false,
    "editable": false,
    "id": "j-WzrgRbDkHE",
    "nbgrader": {
     "checksum": "6d9ca4b8f5de340dea4512b6572b29ff",
     "grade": false,
     "grade_id": "cell-26d261acabd92043",
     "locked": true,
     "schema_version": 1,
     "solution": false
    },
    "outputId": "39fd7818-344c-4f3f-bce2-4f13567752a5"
   },
   "outputs": [
    {
     "data": {
      "text/plain": [
       "LinearRegression(copy_X=True, fit_intercept=True, n_jobs=None, normalize=False)"
      ]
     },
     "execution_count": 31,
     "metadata": {
      "tags": []
     },
     "output_type": "execute_result"
    }
   ],
   "source": [
    "miEst = LinearRegression()\n",
    "miEst.fit(mi_X_train, y_train)"
   ]
  },
  {
   "cell_type": "code",
   "execution_count": 32,
   "metadata": {
    "colab": {
     "base_uri": "https://localhost:8080/",
     "height": 51
    },
    "colab_type": "code",
    "deletable": false,
    "editable": false,
    "id": "70AeupFRDkHH",
    "nbgrader": {
     "checksum": "6afc8d1e070a52921c7fa3867da9027e",
     "grade": false,
     "grade_id": "cell-509cc8db3043cda3",
     "locked": true,
     "schema_version": 1,
     "solution": false
    },
    "outputId": "f39a92f5-d5e3-441b-bec6-c83b82d1719a"
   },
   "outputs": [
    {
     "name": "stdout",
     "output_type": "stream",
     "text": [
      "The mean squared error when training on the MI selected features is 0.5894298141364945.\n",
      "When testing on the test data, the mean squared error is 0.5672465391760814\n"
     ]
    }
   ],
   "source": [
    "print(f\"The mean squared error when training on the MI selected features is {miEst.score(mi_X_train, y_train)}.\")\n",
    "print(f\"When testing on the test data, the mean squared error is {miEst.score(mi_X_test, y_test)}\")"
   ]
  },
  {
   "cell_type": "markdown",
   "metadata": {
    "colab_type": "text",
    "deletable": false,
    "editable": false,
    "id": "3ZtDWVYnDkHK",
    "nbgrader": {
     "checksum": "a19ec42566dc53638e47d98725acc184",
     "grade": false,
     "grade_id": "cell-188bc386a321fe4a",
     "locked": true,
     "schema_version": 1,
     "solution": false
    }
   },
   "source": [
    "## Wrapper Feature Selection\n",
    "\n",
    "Now try using [recursive feature elimination](http://scikit-learn.org/stable/modules/generated/sklearn.feature_selection.RFE.html) to select the 2 features we will use instead."
   ]
  },
  {
   "cell_type": "code",
   "execution_count": 0,
   "metadata": {
    "colab": {},
    "colab_type": "code",
    "deletable": false,
    "id": "P9b73sAdDkHL",
    "nbgrader": {
     "checksum": "0fe2ba44c7feb9255c635a20cac0a917",
     "grade": false,
     "grade_id": "cell-55f80656b8a4988d",
     "locked": false,
     "schema_version": 1,
     "solution": true
    }
   },
   "outputs": [],
   "source": [
    "# Use an RFE object to determine the k features to select from X_train using a step of 2\n",
    "# Save the rfe object as rfe_transformer\n",
    "# Create rfe_X_train and rfe_X_test which are the updated features based on the RFE output\n",
    "\n",
    "rfeEst = LinearRegression()\n",
    "\n",
    "# YOUR CODE HERE\n",
    "rfe_transformer= RFE(rfeEst, step=2).fit(X_train,y_train)\n",
    "\n",
    "rfe_X_train=rfe_transformer.transform(X_train)\n",
    "rfe_X_test=rfe_transformer.transform(X_test)\n",
    "\n"
   ]
  },
  {
   "cell_type": "code",
   "execution_count": 0,
   "metadata": {
    "colab": {},
    "colab_type": "code",
    "deletable": false,
    "editable": false,
    "id": "4J2gGebnDkHO",
    "nbgrader": {
     "checksum": "ebcd381effeed7d311780a88e840ee21",
     "grade": true,
     "grade_id": "cell-b331e2be0d0e31be",
     "locked": true,
     "points": 5,
     "schema_version": 1,
     "solution": false
    }
   },
   "outputs": [],
   "source": [
    "assert isinstance(rfe_transformer, RFE)\n",
    "assert rfe_transformer.step == 2\n",
    "assert len(rfe_transformer.support_) == 8\n",
    "assert mi_X_train.shape == (16512, k)\n",
    "assert mi_X_test.shape == (4128, k)"
   ]
  },
  {
   "cell_type": "code",
   "execution_count": 47,
   "metadata": {
    "colab": {
     "base_uri": "https://localhost:8080/",
     "height": 34
    },
    "colab_type": "code",
    "deletable": false,
    "editable": false,
    "id": "5wtldQ7yDkHS",
    "nbgrader": {
     "checksum": "d6363314448c16a6c6785ac49d8b7acd",
     "grade": false,
     "grade_id": "cell-8b5e64094fc56786",
     "locked": true,
     "schema_version": 1,
     "solution": false
    },
    "outputId": "9b3004e0-bd69-4def-f71a-973a21613069"
   },
   "outputs": [
    {
     "data": {
      "text/plain": [
       "LinearRegression(copy_X=True, fit_intercept=True, n_jobs=None, normalize=False)"
      ]
     },
     "execution_count": 47,
     "metadata": {
      "tags": []
     },
     "output_type": "execute_result"
    }
   ],
   "source": [
    "rfeEst = LinearRegression()\n",
    "rfeEst.fit(rfe_X_train, y_train)"
   ]
  },
  {
   "cell_type": "code",
   "execution_count": 48,
   "metadata": {
    "colab": {
     "base_uri": "https://localhost:8080/",
     "height": 51
    },
    "colab_type": "code",
    "deletable": false,
    "editable": false,
    "id": "aZ8hkKjjDkHV",
    "nbgrader": {
     "checksum": "2379d6e355a26818dace8a8dedd1c217",
     "grade": false,
     "grade_id": "cell-23d00cc293b154f8",
     "locked": true,
     "schema_version": 1,
     "solution": false
    },
    "outputId": "ab9ab6f4-f0db-4c06-8be5-2619efe3dc58"
   },
   "outputs": [
    {
     "name": "stdout",
     "output_type": "stream",
     "text": [
      "The mean squared error when training on the RFE selected features is 0.5926637486301407.\n",
      "When testing on the test data, the mean squared error is 0.5720072080584462\n"
     ]
    }
   ],
   "source": [
    "print(f\"The mean squared error when training on the RFE selected features is {rfeEst.score(rfe_X_train, y_train)}.\")\n",
    "print(f\"When testing on the test data, the mean squared error is {rfeEst.score(rfe_X_test, y_test)}\")"
   ]
  },
  {
   "cell_type": "markdown",
   "metadata": {
    "colab_type": "text",
    "deletable": false,
    "editable": false,
    "id": "9oOdrG7hDkHb",
    "nbgrader": {
     "checksum": "2fab1553b908cc0d0f9f47e5de40bfb9",
     "grade": false,
     "grade_id": "cell-b851aa52ef728d9f",
     "locked": true,
     "schema_version": 1,
     "solution": false
    }
   },
   "source": [
    "## Embedded Methods\n",
    "\n",
    "For the embedded methods feature selection example, we will use Lasso. For this task you should use [LassoCV](http://scikit-learn.org/stable/modules/generated/sklearn.linear_model.LassoCV.html#sklearn.linear_model.LassoCV) and **not** [Lasso](http://scikit-learn.org/stable/modules/generated/sklearn.linear_model.Lasso.html) so that it trains with various values for alpha.\n",
    "\n",
    "Since this is an embedded method, the feature selection will occur directly in the model."
   ]
  },
  {
   "cell_type": "code",
   "execution_count": 0,
   "metadata": {
    "colab": {},
    "colab_type": "code",
    "deletable": false,
    "id": "51dXsPJZDkHe",
    "nbgrader": {
     "checksum": "3c0ea00f1a333384c39b6c54026db57c",
     "grade": false,
     "grade_id": "cell-1cedfcb1fb61f7ff",
     "locked": false,
     "schema_version": 1,
     "solution": true
    }
   },
   "outputs": [],
   "source": [
    "# Create a LassoCV model trained with 10 alphas and save it to lassoClf\n",
    "# YOUR CODE HERE\n",
    "\n",
    "lassoClf=LassoCV(cv=10).fit(X_train, y_train)\n"
   ]
  },
  {
   "cell_type": "code",
   "execution_count": 50,
   "metadata": {
    "colab": {
     "base_uri": "https://localhost:8080/",
     "height": 51
    },
    "colab_type": "code",
    "deletable": false,
    "editable": false,
    "id": "DGddYmx-DkHk",
    "nbgrader": {
     "checksum": "6c25b457315d92952d60a972bdf3d3f8",
     "grade": false,
     "grade_id": "cell-e0ef99dd29a079d0",
     "locked": true,
     "schema_version": 1,
     "solution": false
    },
    "outputId": "3dd71561-b85f-4f3f-b7d5-9b13d5af51c2"
   },
   "outputs": [
    {
     "data": {
      "text/plain": [
       "array([ 3.83899283e-01,  1.13979529e-02,  1.56884471e-03,  0.00000000e+00,\n",
       "       -4.07469366e-07, -4.61025303e-03, -3.24168177e-01, -3.23939467e-01])"
      ]
     },
     "execution_count": 50,
     "metadata": {
      "tags": []
     },
     "output_type": "execute_result"
    }
   ],
   "source": [
    "lassoClf.coef_"
   ]
  },
  {
   "cell_type": "code",
   "execution_count": 51,
   "metadata": {
    "colab": {
     "base_uri": "https://localhost:8080/",
     "height": 34
    },
    "colab_type": "code",
    "deletable": false,
    "editable": false,
    "id": "uvh6wQ2LDkHn",
    "nbgrader": {
     "checksum": "793adcaf747fdf56ed8fd07e49132d78",
     "grade": false,
     "grade_id": "cell-13ec10079ead686f",
     "locked": true,
     "schema_version": 1,
     "solution": false
    },
    "outputId": "dc9fd868-9af0-4a4a-f61f-42e34db2d845"
   },
   "outputs": [
    {
     "data": {
      "text/plain": [
       "0.03577400513173515"
      ]
     },
     "execution_count": 51,
     "metadata": {
      "tags": []
     },
     "output_type": "execute_result"
    }
   ],
   "source": [
    "lassoClf.alpha_"
   ]
  },
  {
   "cell_type": "code",
   "execution_count": 0,
   "metadata": {
    "colab": {},
    "colab_type": "code",
    "deletable": false,
    "editable": false,
    "id": "PNemNSb8DkHq",
    "nbgrader": {
     "checksum": "ef05bf66f40dc577fc39a38a27421750",
     "grade": true,
     "grade_id": "cell-14338e2d22cac6c8",
     "locked": true,
     "points": 5,
     "schema_version": 1,
     "solution": false
    }
   },
   "outputs": [],
   "source": [
    "assert lassoClf\n",
    "assert isinstance(lassoClf, LassoCV)\n",
    "assert len(lassoClf.coef_) == 8"
   ]
  },
  {
   "cell_type": "code",
   "execution_count": 53,
   "metadata": {
    "colab": {
     "base_uri": "https://localhost:8080/",
     "height": 51
    },
    "colab_type": "code",
    "deletable": false,
    "editable": false,
    "id": "FlD3VkvmDkHu",
    "nbgrader": {
     "checksum": "cfff075e92ab73f6e02626bbc173c357",
     "grade": false,
     "grade_id": "cell-a658fc6cce0c662e",
     "locked": true,
     "schema_version": 1,
     "solution": false
    },
    "outputId": "bcabf40a-401f-4c34-ca60-a307ddab80f9"
   },
   "outputs": [
    {
     "name": "stdout",
     "output_type": "stream",
     "text": [
      "The mean squared error when training using lasso is 0.5929687839875066.\n",
      "When testing on the test data, the mean squared error is 0.5709853376060581\n"
     ]
    }
   ],
   "source": [
    "print(f\"The mean squared error when training using lasso is {lassoClf.score(X_train, y_train)}.\")\n",
    "print(f\"When testing on the test data, the mean squared error is {lassoClf.score(X_test, y_test)}\")"
   ]
  },
  {
   "cell_type": "markdown",
   "metadata": {
    "colab_type": "text",
    "deletable": false,
    "editable": false,
    "id": "OVBDEroiDkHx",
    "nbgrader": {
     "checksum": "9168c5ee3b8ae091921313503dc97dd5",
     "grade": false,
     "grade_id": "cell-4ecba6679dfc69af",
     "locked": true,
     "schema_version": 1,
     "solution": false
    }
   },
   "source": [
    "## Feature Extraction\n",
    "\n",
    "Here we'll use [PCA](http://scikit-learn.org/stable/modules/generated/sklearn.decomposition.PCA.html) to extract features from the data."
   ]
  },
  {
   "cell_type": "code",
   "execution_count": 0,
   "metadata": {
    "colab": {},
    "colab_type": "code",
    "deletable": false,
    "id": "mueOJDiEDkHy",
    "nbgrader": {
     "checksum": "668881dea502f0bad19790f241bf92b8",
     "grade": false,
     "grade_id": "cell-3a808f14f3df2364",
     "locked": false,
     "schema_version": 1,
     "solution": true
    }
   },
   "outputs": [],
   "source": [
    "# Select the best k features using PCA\n",
    "# Save the PCA transformer object as pca_transformer\n",
    "# Transform X_train and X_test into the new shape and save to pca_X_train and pca_X_test\n",
    "\n",
    "\n",
    "pca = PCA(n_components=2)\n",
    "# YOUR CODE HERE\n",
    "pca_transformer=PCA(n_components=k).fit(X_train)\n",
    "\n",
    "pca_X_train=pca_transformer.transform(X_train)\n",
    "pca_X_test=pca_transformer.transform(X_test)"
   ]
  },
  {
   "cell_type": "code",
   "execution_count": 0,
   "metadata": {
    "colab": {},
    "colab_type": "code",
    "deletable": false,
    "editable": false,
    "id": "8Yf_bGKXDkH1",
    "nbgrader": {
     "checksum": "1e43773f70b00e2146b5b4bc51e984d8",
     "grade": true,
     "grade_id": "cell-24fe227022674d69",
     "locked": true,
     "points": 5,
     "schema_version": 1,
     "solution": false
    }
   },
   "outputs": [],
   "source": [
    "assert pca_transformer \n",
    "assert isinstance(pca_transformer, PCA)\n",
    "assert pca_transformer.n_components == k\n",
    "assert pca_X_train.shape == (16512, k)\n",
    "assert pca_X_test.shape == (4128, k)"
   ]
  },
  {
   "cell_type": "code",
   "execution_count": 58,
   "metadata": {
    "colab": {
     "base_uri": "https://localhost:8080/",
     "height": 34
    },
    "colab_type": "code",
    "deletable": false,
    "editable": false,
    "id": "-eKmlAc3DkH5",
    "nbgrader": {
     "checksum": "0c5cdad74e679b9aa582920cb104269a",
     "grade": false,
     "grade_id": "cell-4914fe3dff0d5ffd",
     "locked": true,
     "schema_version": 1,
     "solution": false
    },
    "outputId": "452915d2-08cf-4c45-f2ab-c5e7c47d1058"
   },
   "outputs": [
    {
     "data": {
      "text/plain": [
       "LinearRegression(copy_X=True, fit_intercept=True, n_jobs=None, normalize=False)"
      ]
     },
     "execution_count": 58,
     "metadata": {
      "tags": []
     },
     "output_type": "execute_result"
    }
   ],
   "source": [
    "pcaEst = LinearRegression()\n",
    "pcaEst.fit(pca_X_train, y_train)"
   ]
  },
  {
   "cell_type": "code",
   "execution_count": 61,
   "metadata": {
    "colab": {
     "base_uri": "https://localhost:8080/",
     "height": 51
    },
    "colab_type": "code",
    "deletable": false,
    "editable": false,
    "id": "r7qLWkwyDkH8",
    "nbgrader": {
     "checksum": "3bc86018600810251586f82d9e1daf7b",
     "grade": false,
     "grade_id": "cell-671ca4e23f127618",
     "locked": true,
     "schema_version": 1,
     "solution": false
    },
    "outputId": "8dd107d6-f804-443b-808d-af25ecddfb68"
   },
   "outputs": [
    {
     "name": "stdout",
     "output_type": "stream",
     "text": [
      "The R squared value when training using PCA is 0.011832093756049544.\n",
      "When testing on the test data, the R squared value is 0.003451711009928249\n"
     ]
    }
   ],
   "source": [
    "print(f\"The R squared value when training using PCA is {pcaEst.score(pca_X_train, y_train)}.\")\n",
    "print(f\"When testing on the test data, the R squared value is {pcaEst.score(pca_X_test, y_test)}\")"
   ]
  },
  {
   "cell_type": "code",
   "execution_count": 62,
   "metadata": {
    "colab": {
     "base_uri": "https://localhost:8080/",
     "height": 425
    },
    "colab_type": "code",
    "deletable": false,
    "editable": false,
    "id": "jzufhSXSDkIE",
    "nbgrader": {
     "checksum": "4fdeb951dfab628fde133d2ffb52c550",
     "grade": false,
     "grade_id": "cell-e8c34edca3f89d4b",
     "locked": true,
     "schema_version": 1,
     "solution": false
    },
    "outputId": "4c8ad2ec-467e-4937-9fa9-fb6cb3028229"
   },
   "outputs": [
    {
     "data": {
      "text/plain": [
       "array([[ 2.59881878e+00, -2.85404338e+00,  1.69458762e-01,\n",
       "         2.02649494e-02,  9.88022268e+00,  2.12524850e-02,\n",
       "         1.77252627e-01, -1.13858541e-01],\n",
       "       [-2.85404338e+00,  1.58777213e+02, -4.81380579e+00,\n",
       "        -4.69596878e-01, -4.30539684e+03,  1.01359303e+00,\n",
       "         4.93684706e-01, -2.87568750e+00],\n",
       "       [ 1.69458762e-01, -4.81380579e+00,  3.15500331e+00,\n",
       "         8.25054593e-02, -1.92964965e+02,  7.47416667e-02,\n",
       "         1.11027923e+00, -9.23849732e-01],\n",
       "       [ 2.02649494e-02, -4.69596878e-01,  8.25054593e-02,\n",
       "         2.54365791e+00, -3.40875068e+01, -6.12764836e-03,\n",
       "         1.60142020e-01, -1.36806830e-01],\n",
       "       [ 9.88022268e+00, -4.30539684e+03, -1.92964965e+02,\n",
       "        -3.40875068e+01,  1.30659246e+06,  5.35350485e+02,\n",
       "        -2.80412604e+02,  2.40965884e+02],\n",
       "       [ 2.12524850e-02,  1.01359303e+00,  7.47416667e-02,\n",
       "        -6.12764836e-03,  5.35350485e+02,  4.14906644e+01,\n",
       "        -7.41569408e-02,  1.75039261e-01],\n",
       "       [ 1.77252627e-01,  4.93684706e-01,  1.11027923e+00,\n",
       "         1.60142020e-01, -2.80412604e+02, -7.41569408e-02,\n",
       "         5.48211455e+00, -2.70516546e+00],\n",
       "       [-1.13858541e-01, -2.87568750e+00, -9.23849732e-01,\n",
       "        -1.36806830e-01,  2.40965884e+02,  1.75039261e-01,\n",
       "        -2.70516546e+00,  5.05752166e+00]])"
      ]
     },
     "execution_count": 62,
     "metadata": {
      "tags": []
     },
     "output_type": "execute_result"
    }
   ],
   "source": [
    "pca_transformer.get_covariance()"
   ]
  },
  {
   "cell_type": "markdown",
   "metadata": {
    "colab_type": "text",
    "deletable": false,
    "editable": false,
    "id": "ecH3dZK0DkIK",
    "nbgrader": {
     "checksum": "69b8022702de36b9b44a556d801f35c4",
     "grade": false,
     "grade_id": "cell-0af4ac9c65ab66bc",
     "locked": true,
     "schema_version": 1,
     "solution": false
    }
   },
   "source": [
    "The explained variance ratio tells us how much of the variance is explained by each component."
   ]
  },
  {
   "cell_type": "code",
   "execution_count": 63,
   "metadata": {
    "colab": {
     "base_uri": "https://localhost:8080/",
     "height": 34
    },
    "colab_type": "code",
    "deletable": false,
    "editable": false,
    "id": "vBOE8f81DkIN",
    "nbgrader": {
     "checksum": "d4d1641a51c78d240d27fcbb81a6346d",
     "grade": false,
     "grade_id": "cell-d6c09d63a73d814d",
     "locked": true,
     "schema_version": 1,
     "solution": false
    },
    "outputId": "42dad923-b6d5-4ad4-9715-a5ed1326c219"
   },
   "outputs": [
    {
     "data": {
      "text/plain": [
       "array([9.99843464e-01, 1.10928016e-04, 3.15269403e-05, 6.32948656e-06])"
      ]
     },
     "execution_count": 63,
     "metadata": {
      "tags": []
     },
     "output_type": "execute_result"
    }
   ],
   "source": [
    "pca_transformer.explained_variance_ratio_"
   ]
  },
  {
   "cell_type": "markdown",
   "metadata": {
    "colab_type": "text",
    "deletable": false,
    "editable": false,
    "id": "acTdQK-ADkIQ",
    "nbgrader": {
     "checksum": "4663ad4a4e000598dc8d1a97bd2e2f71",
     "grade": false,
     "grade_id": "cell-4b75632b6e8bb9c2",
     "locked": true,
     "schema_version": 1,
     "solution": false
    }
   },
   "source": [
    "Sometimes PCA may perform poorly for regression cases. See [this answer](https://stats.stackexchange.com/a/52798) on StackExchange for more info. In the next lecture, we will take a deeper dive into PCA."
   ]
  },
  {
   "cell_type": "markdown",
   "metadata": {
    "colab_type": "text",
    "deletable": false,
    "editable": false,
    "id": "iZXnlxCtDkIR",
    "nbgrader": {
     "checksum": "1f7640f916f64aeac4af3ec318d3b9cd",
     "grade": false,
     "grade_id": "cell-a1034774d762a001",
     "locked": true,
     "schema_version": 1,
     "solution": false
    }
   },
   "source": [
    "## Feedback"
   ]
  },
  {
   "cell_type": "code",
   "execution_count": 0,
   "metadata": {
    "colab": {},
    "colab_type": "code",
    "deletable": false,
    "id": "XtJIAiQDDkIS",
    "nbgrader": {
     "checksum": "ed936ab53a1391c5e6af8df699a1dbf5",
     "grade": false,
     "grade_id": "feedback",
     "locked": false,
     "schema_version": 1,
     "solution": true
    }
   },
   "outputs": [],
   "source": [
    "def feedback():\n",
    "    \"\"\"Provide feedback on the contents of this exercise\n",
    "    \n",
    "    Returns:\n",
    "        string\n",
    "    \"\"\"\n",
    "    # YOUR CODE HERE\n",
    "    return \"This was great. thank you so much\""
   ]
  },
  {
   "cell_type": "code",
   "execution_count": 0,
   "metadata": {
    "colab": {},
    "colab_type": "code",
    "deletable": false,
    "editable": false,
    "id": "WxagXsuzDkIV",
    "nbgrader": {
     "checksum": "f39f6185a54850c2f1f9b5b2a17b7543",
     "grade": true,
     "grade_id": "feedback-tests",
     "locked": true,
     "points": 0,
     "schema_version": 1,
     "solution": false
    }
   },
   "outputs": [],
   "source": []
  }
 ],
 "metadata": {
  "colab": {
   "name": "11 - Feature Learning.ipynb",
   "provenance": []
  },
  "kernelspec": {
   "display_name": "Python 3",
   "language": "python",
   "name": "python3"
  },
  "language_info": {
   "codemirror_mode": {
    "name": "ipython",
    "version": 3
   },
   "file_extension": ".py",
   "mimetype": "text/x-python",
   "name": "python",
   "nbconvert_exporter": "python",
   "pygments_lexer": "ipython3",
   "version": "3.7.3"
  }
 },
 "nbformat": 4,
 "nbformat_minor": 1
}
